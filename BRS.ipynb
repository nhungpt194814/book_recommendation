{
 "cells": [
  {
   "cell_type": "code",
   "execution_count": 20,
   "metadata": {},
   "outputs": [],
   "source": [
    "import pandas as pd\n",
    "import json\n",
    "from utils.data_cleaning import text_cleaning, text_cleaning_lighter, timestamp_to_year, extract_numeric_rating"
   ]
  },
  {
   "cell_type": "code",
   "execution_count": 21,
   "metadata": {},
   "outputs": [
    {
     "name": "stdout",
     "output_type": "stream",
     "text": [
      "<class 'pandas.core.frame.DataFrame'>\n",
      "RangeIndex: 11403 entries, 0 to 11402\n",
      "Data columns (total 22 columns):\n",
      " #   Column           Non-Null Count  Dtype  \n",
      "---  ------           --------------  -----  \n",
      " 0   url              11403 non-null  object \n",
      " 1   title            11384 non-null  object \n",
      " 2   titleComplete    11384 non-null  object \n",
      " 3   description      11369 non-null  object \n",
      " 4   imageUrl         11368 non-null  object \n",
      " 5   genres           11185 non-null  object \n",
      " 6   asin             9838 non-null   object \n",
      " 7   isbn             9073 non-null   object \n",
      " 8   isbn13           9243 non-null   float64\n",
      " 9   publisher        10972 non-null  object \n",
      " 10  author           11384 non-null  object \n",
      " 11  publishDate      11332 non-null  float64\n",
      " 12  characters       6411 non-null   object \n",
      " 13  places           5362 non-null   object \n",
      " 14  ratingHistogram  11384 non-null  object \n",
      " 15  ratingsCount     11368 non-null  float64\n",
      " 16  reviewsCount     11347 non-null  float64\n",
      " 17  numPages         11253 non-null  float64\n",
      " 18  language         11271 non-null  object \n",
      " 19  awards           5003 non-null   object \n",
      " 20  series           5915 non-null   object \n",
      " 21  avgRating        11309 non-null  float64\n",
      "dtypes: float64(6), object(16)\n",
      "memory usage: 1.9+ MB\n"
     ]
    }
   ],
   "source": [
    "books = pd.read_json('./data/book_best_001_050.jl', lines=True)\n",
    "books.head(3)\n",
    "books.info()"
   ]
  },
  {
   "cell_type": "code",
   "execution_count": 22,
   "metadata": {},
   "outputs": [
    {
     "data": {
      "text/html": [
       "<div>\n",
       "<style scoped>\n",
       "    .dataframe tbody tr th:only-of-type {\n",
       "        vertical-align: middle;\n",
       "    }\n",
       "\n",
       "    .dataframe tbody tr th {\n",
       "        vertical-align: top;\n",
       "    }\n",
       "\n",
       "    .dataframe thead th {\n",
       "        text-align: right;\n",
       "    }\n",
       "</style>\n",
       "<table border=\"1\" class=\"dataframe\">\n",
       "  <thead>\n",
       "    <tr style=\"text-align: right;\">\n",
       "      <th></th>\n",
       "      <th>book_url</th>\n",
       "      <th>title</th>\n",
       "      <th>user</th>\n",
       "      <th>user_rate</th>\n",
       "      <th>user_review</th>\n",
       "    </tr>\n",
       "  </thead>\n",
       "  <tbody>\n",
       "    <tr>\n",
       "      <th>0</th>\n",
       "      <td>https://www.goodreads.com/book/show/136251.Har...</td>\n",
       "      <td>Harry Potter and the Deathly Hallows</td>\n",
       "      <td>992038-tara</td>\n",
       "      <td>Rating 1 out of 5</td>\n",
       "      <td>Ok, before I start a few warnings. This will c...</td>\n",
       "    </tr>\n",
       "    <tr>\n",
       "      <th>1</th>\n",
       "      <td>https://www.goodreads.com/book/show/136251.Har...</td>\n",
       "      <td>Harry Potter and the Deathly Hallows</td>\n",
       "      <td>167451-suzanne</td>\n",
       "      <td>Rating 5 out of 5</td>\n",
       "      <td>\"I'm going to keep going until I succeed — or ...</td>\n",
       "    </tr>\n",
       "    <tr>\n",
       "      <th>2</th>\n",
       "      <td>https://www.goodreads.com/book/show/136251.Har...</td>\n",
       "      <td>Harry Potter and the Deathly Hallows</td>\n",
       "      <td>8937622-kassidy</td>\n",
       "      <td>Rating 5 out of 5</td>\n",
       "      <td>It's hard for me to believe that I finished th...</td>\n",
       "    </tr>\n",
       "  </tbody>\n",
       "</table>\n",
       "</div>"
      ],
      "text/plain": [
       "                                            book_url  \\\n",
       "0  https://www.goodreads.com/book/show/136251.Har...   \n",
       "1  https://www.goodreads.com/book/show/136251.Har...   \n",
       "2  https://www.goodreads.com/book/show/136251.Har...   \n",
       "\n",
       "                                  title             user          user_rate  \\\n",
       "0  Harry Potter and the Deathly Hallows      992038-tara  Rating 1 out of 5   \n",
       "1  Harry Potter and the Deathly Hallows   167451-suzanne  Rating 5 out of 5   \n",
       "2  Harry Potter and the Deathly Hallows  8937622-kassidy  Rating 5 out of 5   \n",
       "\n",
       "                                         user_review  \n",
       "0  Ok, before I start a few warnings. This will c...  \n",
       "1  \"I'm going to keep going until I succeed — or ...  \n",
       "2  It's hard for me to believe that I finished th...  "
      ]
     },
     "execution_count": 22,
     "metadata": {},
     "output_type": "execute_result"
    }
   ],
   "source": [
    "interactives = pd.read_json('./data/interactive_test.json')\n",
    "interactives.head(3)"
   ]
  },
  {
   "cell_type": "markdown",
   "metadata": {},
   "source": [
    "# Data cleanning\n",
    "## **Books**: information of 999xxxxxx books"
   ]
  },
  {
   "cell_type": "markdown",
   "metadata": {},
   "source": [
    "**Drop some columns**"
   ]
  },
  {
   "cell_type": "code",
   "execution_count": 23,
   "metadata": {},
   "outputs": [
    {
     "data": {
      "text/html": [
       "<div>\n",
       "<style scoped>\n",
       "    .dataframe tbody tr th:only-of-type {\n",
       "        vertical-align: middle;\n",
       "    }\n",
       "\n",
       "    .dataframe tbody tr th {\n",
       "        vertical-align: top;\n",
       "    }\n",
       "\n",
       "    .dataframe thead th {\n",
       "        text-align: right;\n",
       "    }\n",
       "</style>\n",
       "<table border=\"1\" class=\"dataframe\">\n",
       "  <thead>\n",
       "    <tr style=\"text-align: right;\">\n",
       "      <th></th>\n",
       "      <th>url</th>\n",
       "      <th>title</th>\n",
       "      <th>description</th>\n",
       "      <th>genres</th>\n",
       "      <th>author</th>\n",
       "      <th>publishDate</th>\n",
       "      <th>ratingHistogram</th>\n",
       "      <th>ratingsCount</th>\n",
       "      <th>reviewsCount</th>\n",
       "      <th>numPages</th>\n",
       "      <th>language</th>\n",
       "      <th>avgRating</th>\n",
       "    </tr>\n",
       "  </thead>\n",
       "  <tbody>\n",
       "    <tr>\n",
       "      <th>0</th>\n",
       "      <td>https://www.goodreads.com/book/show/2165.The_O...</td>\n",
       "      <td>The Old Man and the Sea</td>\n",
       "      <td>Librarian's note: An alternate cover edition c...</td>\n",
       "      <td>[Adventure, Fiction, Literary Fiction, America...</td>\n",
       "      <td>[Ernest Hemingway]</td>\n",
       "      <td>8.204832e+11</td>\n",
       "      <td>[47620, 91381, 253168, 362501, 355777]</td>\n",
       "      <td>1110447.0</td>\n",
       "      <td>37865.0</td>\n",
       "      <td>96.0</td>\n",
       "      <td>English</td>\n",
       "      <td>NaN</td>\n",
       "    </tr>\n",
       "    <tr>\n",
       "      <th>1</th>\n",
       "      <td>https://www.goodreads.com/book/show/295.Treasu...</td>\n",
       "      <td>Treasure Island</td>\n",
       "      <td>\"For sheer storytelling delight and pure adven...</td>\n",
       "      <td>[Pirates, Adventure, Fiction, Classics, Fantas...</td>\n",
       "      <td>[N.C. Wyeth, Robert Louis Stevenson]</td>\n",
       "      <td>1.000537e+12</td>\n",
       "      <td>[8528, 28655, 128405, 176772, 136475]</td>\n",
       "      <td>478835.0</td>\n",
       "      <td>15923.0</td>\n",
       "      <td>352.0</td>\n",
       "      <td>English</td>\n",
       "      <td>NaN</td>\n",
       "    </tr>\n",
       "    <tr>\n",
       "      <th>2</th>\n",
       "      <td>https://www.goodreads.com/book/show/7244.The_P...</td>\n",
       "      <td>The Poisonwood Bible</td>\n",
       "      <td>The Poisonwood Bible is a story told by the wi...</td>\n",
       "      <td>[Historical, Fiction, Literary Fiction, Classi...</td>\n",
       "      <td>[Barbara Kingsolver]</td>\n",
       "      <td>1.117523e+12</td>\n",
       "      <td>[23947, 39130, 112637, 227128, 329801]</td>\n",
       "      <td>732643.0</td>\n",
       "      <td>26807.0</td>\n",
       "      <td>546.0</td>\n",
       "      <td>English</td>\n",
       "      <td>NaN</td>\n",
       "    </tr>\n",
       "  </tbody>\n",
       "</table>\n",
       "</div>"
      ],
      "text/plain": [
       "                                                 url                    title  \\\n",
       "0  https://www.goodreads.com/book/show/2165.The_O...  The Old Man and the Sea   \n",
       "1  https://www.goodreads.com/book/show/295.Treasu...          Treasure Island   \n",
       "2  https://www.goodreads.com/book/show/7244.The_P...     The Poisonwood Bible   \n",
       "\n",
       "                                         description  \\\n",
       "0  Librarian's note: An alternate cover edition c...   \n",
       "1  \"For sheer storytelling delight and pure adven...   \n",
       "2  The Poisonwood Bible is a story told by the wi...   \n",
       "\n",
       "                                              genres  \\\n",
       "0  [Adventure, Fiction, Literary Fiction, America...   \n",
       "1  [Pirates, Adventure, Fiction, Classics, Fantas...   \n",
       "2  [Historical, Fiction, Literary Fiction, Classi...   \n",
       "\n",
       "                                 author   publishDate  \\\n",
       "0                    [Ernest Hemingway]  8.204832e+11   \n",
       "1  [N.C. Wyeth, Robert Louis Stevenson]  1.000537e+12   \n",
       "2                  [Barbara Kingsolver]  1.117523e+12   \n",
       "\n",
       "                          ratingHistogram  ratingsCount  reviewsCount  \\\n",
       "0  [47620, 91381, 253168, 362501, 355777]     1110447.0       37865.0   \n",
       "1   [8528, 28655, 128405, 176772, 136475]      478835.0       15923.0   \n",
       "2  [23947, 39130, 112637, 227128, 329801]      732643.0       26807.0   \n",
       "\n",
       "   numPages language  avgRating  \n",
       "0      96.0  English        NaN  \n",
       "1     352.0  English        NaN  \n",
       "2     546.0  English        NaN  "
      ]
     },
     "execution_count": 23,
     "metadata": {},
     "output_type": "execute_result"
    }
   ],
   "source": [
    "books.drop(['titleComplete', 'imageUrl', 'asin', 'isbn', 'isbn13', 'publisher', 'series', 'characters', 'places', 'awards'], axis=1, inplace = True)\n",
    "# books.info()\n",
    "books.head(3)"
   ]
  },
  {
   "cell_type": "markdown",
   "metadata": {},
   "source": [
    "**Drop books with the same *url* or uncrawlable books**"
   ]
  },
  {
   "cell_type": "code",
   "execution_count": 24,
   "metadata": {},
   "outputs": [],
   "source": [
    "books.drop_duplicates(subset='url', keep='first', inplace=True)\n",
    "books.dropna(subset=['title'], inplace=True)\n",
    "# title duplicates because of reprints, versions, publising companies\n",
    "books.drop_duplicates(subset='title', keep='first', inplace=True)"
   ]
  },
  {
   "cell_type": "markdown",
   "metadata": {},
   "source": [
    "**Books: *title*, *author*, *description***  \n",
    "- convert *title*, *author* to str type\n",
    "- fill *description*  missing values with default value (= *title*)\n",
    "- translate *description* to English, remove meaningless words, convert to lower case, remove punctuations, special charecters, emojis and multiple spaces"
   ]
  },
  {
   "cell_type": "code",
   "execution_count": 25,
   "metadata": {},
   "outputs": [],
   "source": [
    "books['title'] = books['title'].astype(str)\n",
    "books['author'] = books['author'].apply(lambda x: ', '.join(x) if x else '')\n",
    "books['description'].fillna(books['title'], inplace=True)\n",
    "# cái này chạy hơi lâu, có thể xảy ra lỗi timeout, cmt để chạy test các function khác\n",
    "books['description'] = books['description'].apply(text_cleaning_lighter)"
   ]
  },
  {
   "cell_type": "markdown",
   "metadata": {},
   "source": [
    "**Books: *genres*, *language***  \n",
    "- convert *genres*, *language* to categorical variables\n",
    "- fill *genres*, *language* missing values with default value"
   ]
  },
  {
   "cell_type": "code",
   "execution_count": 26,
   "metadata": {},
   "outputs": [],
   "source": [
    "books['genres'].fillna('', inplace=True)\n",
    "# check and handle non-list-like data\n",
    "books['genres'] = books['genres'].apply(lambda x: x if isinstance(x, list) else [])\n",
    "books['genres'] = books['genres'].apply(lambda x: pd.Categorical(x))\n",
    "# default language should be the most popular language \n",
    "books['language'].fillna('English', inplace=True)\n",
    "books['language'] = books['language'].astype('category')"
   ]
  },
  {
   "cell_type": "markdown",
   "metadata": {},
   "source": [
    "**Book: *publishDate***\n",
    "- convert Unix timestamp *publishDate* to *publishYear*\n",
    "- *avgPublishDate* of a book = mean of *publishDate* of books that had same *author* | If any and its *publishDate* is not missing  \n",
    "  Else  *avgPublishDate* of a book = mean of *publishDate* of all books\n",
    "- drop *publishDate* col"
   ]
  },
  {
   "cell_type": "code",
   "execution_count": 27,
   "metadata": {},
   "outputs": [],
   "source": [
    "books['publishDate'] = books['publishDate'].apply(timestamp_to_year)\n",
    "books = books.rename(columns={'publishDate': 'publishYear'})\n",
    "\n",
    "\n",
    "author_avg_date = books.groupby('author')['publishYear'].mean()\n",
    "overall_avg_date = books['publishYear'].mean()\n",
    "books['publishYear'] = books.apply(\n",
    "    lambda row: author_avg_date[row['author']] if pd.isnull(row['publishYear']) and row['author'] in author_avg_date.index else row['publishYear'],\n",
    "    axis=1\n",
    ")\n",
    "books['publishYear'].fillna(overall_avg_date, inplace=True)\n",
    "books['publishYear'] = books['publishYear'].astype(int)"
   ]
  },
  {
   "cell_type": "markdown",
   "metadata": {},
   "source": [
    "**Book: *reviewsCount*, *ratingsCount*, *avgRating*, *ratingHistogram***\n",
    "- fill *ratingsCount*, *avgRating* missing values with value calculated based on the *ratingHistogram*\n",
    "- fill *reviewsCount* missing values with 0"
   ]
  },
  {
   "cell_type": "code",
   "execution_count": 28,
   "metadata": {},
   "outputs": [],
   "source": [
    "books['reviewsCount'].fillna(0, inplace=True)\n",
    "\n",
    "def calculate_avgRating(ratingHistogram):\n",
    "  ratingsCount = sum(ratingHistogram)\n",
    "  if ratingsCount:\n",
    "    return sum(i * (idx + 1) for idx, i in enumerate(ratingHistogram)) / ratingsCount\n",
    "  else:\n",
    "    return 0\n",
    "\n",
    "books['ratingsCount'] = books.apply(lambda row: sum(row['ratingHistogram']) if pd.isnull(row['ratingsCount']) else row['ratingsCount'], axis=1)\n",
    "books['avgRating'] = books.apply(lambda row: calculate_avgRating(row['ratingHistogram']) if pd.isnull(row['avgRating']) else row['avgRating'], axis=1)\n",
    "books['reviewsCount'] = books['reviewsCount'].astype(int)\n",
    "books['ratingsCount'] = books['ratingsCount'].astype(int)\n"
   ]
  },
  {
   "cell_type": "code",
   "execution_count": 29,
   "metadata": {},
   "outputs": [
    {
     "data": {
      "text/plain": [
       "url                0\n",
       "title              0\n",
       "description        0\n",
       "genres             0\n",
       "author             0\n",
       "publishYear        0\n",
       "ratingHistogram    0\n",
       "ratingsCount       0\n",
       "reviewsCount       0\n",
       "numPages           0\n",
       "language           0\n",
       "avgRating          0\n",
       "dtype: int64"
      ]
     },
     "execution_count": 29,
     "metadata": {},
     "output_type": "execute_result"
    }
   ],
   "source": [
    "avgNumPages = books['numPages'].mean()\n",
    "books['numPages'].fillna(avgNumPages, inplace=True)\n",
    "books['numPages'] = books['numPages'].astype(int)\n",
    "\n",
    "books.isnull().sum()\n",
    "# books[books['avgRating'].isnull()]\n",
    "# books.loc[books['author'] == 'Gordon R. Dickson']"
   ]
  },
  {
   "cell_type": "code",
   "execution_count": 30,
   "metadata": {},
   "outputs": [
    {
     "name": "stdout",
     "output_type": "stream",
     "text": [
      "<class 'pandas.core.frame.DataFrame'>\n",
      "Index: 9636 entries, 0 to 10985\n",
      "Data columns (total 12 columns):\n",
      " #   Column           Non-Null Count  Dtype   \n",
      "---  ------           --------------  -----   \n",
      " 0   url              9636 non-null   object  \n",
      " 1   title            9636 non-null   object  \n",
      " 2   description      9636 non-null   object  \n",
      " 3   genres           9636 non-null   object  \n",
      " 4   author           9636 non-null   object  \n",
      " 5   publishYear      9636 non-null   int32   \n",
      " 6   ratingHistogram  9636 non-null   object  \n",
      " 7   ratingsCount     9636 non-null   int32   \n",
      " 8   reviewsCount     9636 non-null   int32   \n",
      " 9   numPages         9636 non-null   int32   \n",
      " 10  language         9636 non-null   category\n",
      " 11  avgRating        9636 non-null   float64 \n",
      "dtypes: category(1), float64(1), int32(4), object(6)\n",
      "memory usage: 763.5+ KB\n"
     ]
    }
   ],
   "source": [
    "books.info()"
   ]
  },
  {
   "cell_type": "code",
   "execution_count": 31,
   "metadata": {},
   "outputs": [
    {
     "data": {
      "text/html": [
       "<div>\n",
       "<style scoped>\n",
       "    .dataframe tbody tr th:only-of-type {\n",
       "        vertical-align: middle;\n",
       "    }\n",
       "\n",
       "    .dataframe tbody tr th {\n",
       "        vertical-align: top;\n",
       "    }\n",
       "\n",
       "    .dataframe thead th {\n",
       "        text-align: right;\n",
       "    }\n",
       "</style>\n",
       "<table border=\"1\" class=\"dataframe\">\n",
       "  <thead>\n",
       "    <tr style=\"text-align: right;\">\n",
       "      <th></th>\n",
       "      <th>url</th>\n",
       "      <th>title</th>\n",
       "      <th>description</th>\n",
       "      <th>genres</th>\n",
       "      <th>author</th>\n",
       "      <th>publishYear</th>\n",
       "      <th>ratingHistogram</th>\n",
       "      <th>ratingsCount</th>\n",
       "      <th>reviewsCount</th>\n",
       "      <th>numPages</th>\n",
       "      <th>language</th>\n",
       "      <th>avgRating</th>\n",
       "    </tr>\n",
       "  </thead>\n",
       "  <tbody>\n",
       "    <tr>\n",
       "      <th>0</th>\n",
       "      <td>https://www.goodreads.com/book/show/2165.The_O...</td>\n",
       "      <td>The Old Man and the Sea</td>\n",
       "      <td>librarian s note an alternate cover edition ca...</td>\n",
       "      <td>['Adventure', 'Fiction', 'Literary Fiction', '...</td>\n",
       "      <td>Ernest Hemingway</td>\n",
       "      <td>1996</td>\n",
       "      <td>[47620, 91381, 253168, 362501, 355777]</td>\n",
       "      <td>1110447</td>\n",
       "      <td>37865</td>\n",
       "      <td>96</td>\n",
       "      <td>English</td>\n",
       "      <td>3.799168</td>\n",
       "    </tr>\n",
       "    <tr>\n",
       "      <th>1</th>\n",
       "      <td>https://www.goodreads.com/book/show/295.Treasu...</td>\n",
       "      <td>Treasure Island</td>\n",
       "      <td>for sheer storytelling delight and pure advent...</td>\n",
       "      <td>['Pirates', 'Adventure', 'Fiction', 'Classics'...</td>\n",
       "      <td>N.C. Wyeth, Robert Louis Stevenson</td>\n",
       "      <td>2001</td>\n",
       "      <td>[8528, 28655, 128405, 176772, 136475]</td>\n",
       "      <td>478835</td>\n",
       "      <td>15923</td>\n",
       "      <td>352</td>\n",
       "      <td>English</td>\n",
       "      <td>3.843737</td>\n",
       "    </tr>\n",
       "    <tr>\n",
       "      <th>2</th>\n",
       "      <td>https://www.goodreads.com/book/show/7244.The_P...</td>\n",
       "      <td>The Poisonwood Bible</td>\n",
       "      <td>the poisonwood bible is a story told by the wi...</td>\n",
       "      <td>['Historical', 'Fiction', 'Literary Fiction', ...</td>\n",
       "      <td>Barbara Kingsolver</td>\n",
       "      <td>2005</td>\n",
       "      <td>[23947, 39130, 112637, 227128, 329801]</td>\n",
       "      <td>732643</td>\n",
       "      <td>26807</td>\n",
       "      <td>546</td>\n",
       "      <td>English</td>\n",
       "      <td>4.091536</td>\n",
       "    </tr>\n",
       "  </tbody>\n",
       "</table>\n",
       "</div>"
      ],
      "text/plain": [
       "                                                 url                    title  \\\n",
       "0  https://www.goodreads.com/book/show/2165.The_O...  The Old Man and the Sea   \n",
       "1  https://www.goodreads.com/book/show/295.Treasu...          Treasure Island   \n",
       "2  https://www.goodreads.com/book/show/7244.The_P...     The Poisonwood Bible   \n",
       "\n",
       "                                         description  \\\n",
       "0  librarian s note an alternate cover edition ca...   \n",
       "1  for sheer storytelling delight and pure advent...   \n",
       "2  the poisonwood bible is a story told by the wi...   \n",
       "\n",
       "                                              genres  \\\n",
       "0  ['Adventure', 'Fiction', 'Literary Fiction', '...   \n",
       "1  ['Pirates', 'Adventure', 'Fiction', 'Classics'...   \n",
       "2  ['Historical', 'Fiction', 'Literary Fiction', ...   \n",
       "\n",
       "                               author  publishYear  \\\n",
       "0                    Ernest Hemingway         1996   \n",
       "1  N.C. Wyeth, Robert Louis Stevenson         2001   \n",
       "2                  Barbara Kingsolver         2005   \n",
       "\n",
       "                          ratingHistogram  ratingsCount  reviewsCount  \\\n",
       "0  [47620, 91381, 253168, 362501, 355777]       1110447         37865   \n",
       "1   [8528, 28655, 128405, 176772, 136475]        478835         15923   \n",
       "2  [23947, 39130, 112637, 227128, 329801]        732643         26807   \n",
       "\n",
       "   numPages language  avgRating  \n",
       "0        96  English   3.799168  \n",
       "1       352  English   3.843737  \n",
       "2       546  English   4.091536  "
      ]
     },
     "execution_count": 31,
     "metadata": {},
     "output_type": "execute_result"
    }
   ],
   "source": [
    "books.head(3)"
   ]
  },
  {
   "cell_type": "markdown",
   "metadata": {},
   "source": [
    "## **Interactives**: user reviews and user ratings for the above books"
   ]
  },
  {
   "cell_type": "code",
   "execution_count": 32,
   "metadata": {},
   "outputs": [
    {
     "data": {
      "text/html": [
       "<div>\n",
       "<style scoped>\n",
       "    .dataframe tbody tr th:only-of-type {\n",
       "        vertical-align: middle;\n",
       "    }\n",
       "\n",
       "    .dataframe tbody tr th {\n",
       "        vertical-align: top;\n",
       "    }\n",
       "\n",
       "    .dataframe thead th {\n",
       "        text-align: right;\n",
       "    }\n",
       "</style>\n",
       "<table border=\"1\" class=\"dataframe\">\n",
       "  <thead>\n",
       "    <tr style=\"text-align: right;\">\n",
       "      <th></th>\n",
       "      <th>book_url</th>\n",
       "      <th>title</th>\n",
       "      <th>user</th>\n",
       "      <th>user_rate</th>\n",
       "      <th>user_review</th>\n",
       "    </tr>\n",
       "  </thead>\n",
       "  <tbody>\n",
       "    <tr>\n",
       "      <th>0</th>\n",
       "      <td>https://www.goodreads.com/book/show/136251.Har...</td>\n",
       "      <td>Harry Potter and the Deathly Hallows</td>\n",
       "      <td>992038-tara</td>\n",
       "      <td>Rating 1 out of 5</td>\n",
       "      <td>Ok, before I start a few warnings. This will c...</td>\n",
       "    </tr>\n",
       "    <tr>\n",
       "      <th>1</th>\n",
       "      <td>https://www.goodreads.com/book/show/136251.Har...</td>\n",
       "      <td>Harry Potter and the Deathly Hallows</td>\n",
       "      <td>167451-suzanne</td>\n",
       "      <td>Rating 5 out of 5</td>\n",
       "      <td>\"I'm going to keep going until I succeed — or ...</td>\n",
       "    </tr>\n",
       "    <tr>\n",
       "      <th>2</th>\n",
       "      <td>https://www.goodreads.com/book/show/136251.Har...</td>\n",
       "      <td>Harry Potter and the Deathly Hallows</td>\n",
       "      <td>8937622-kassidy</td>\n",
       "      <td>Rating 5 out of 5</td>\n",
       "      <td>It's hard for me to believe that I finished th...</td>\n",
       "    </tr>\n",
       "  </tbody>\n",
       "</table>\n",
       "</div>"
      ],
      "text/plain": [
       "                                            book_url  \\\n",
       "0  https://www.goodreads.com/book/show/136251.Har...   \n",
       "1  https://www.goodreads.com/book/show/136251.Har...   \n",
       "2  https://www.goodreads.com/book/show/136251.Har...   \n",
       "\n",
       "                                  title             user          user_rate  \\\n",
       "0  Harry Potter and the Deathly Hallows      992038-tara  Rating 1 out of 5   \n",
       "1  Harry Potter and the Deathly Hallows   167451-suzanne  Rating 5 out of 5   \n",
       "2  Harry Potter and the Deathly Hallows  8937622-kassidy  Rating 5 out of 5   \n",
       "\n",
       "                                         user_review  \n",
       "0  Ok, before I start a few warnings. This will c...  \n",
       "1  \"I'm going to keep going until I succeed — or ...  \n",
       "2  It's hard for me to believe that I finished th...  "
      ]
     },
     "execution_count": 32,
     "metadata": {},
     "output_type": "execute_result"
    }
   ],
   "source": [
    "interactives.head(3)"
   ]
  },
  {
   "cell_type": "code",
   "execution_count": 33,
   "metadata": {},
   "outputs": [
    {
     "name": "stdout",
     "output_type": "stream",
     "text": [
      "<class 'pandas.core.frame.DataFrame'>\n",
      "RangeIndex: 1470 entries, 0 to 1469\n",
      "Data columns (total 5 columns):\n",
      " #   Column       Non-Null Count  Dtype \n",
      "---  ------       --------------  ----- \n",
      " 0   book_url     1470 non-null   object\n",
      " 1   title        1470 non-null   object\n",
      " 2   user         1430 non-null   object\n",
      " 3   user_rate    1434 non-null   object\n",
      " 4   user_review  1470 non-null   object\n",
      "dtypes: object(5)\n",
      "memory usage: 57.6+ KB\n"
     ]
    }
   ],
   "source": [
    "interactives.info()"
   ]
  },
  {
   "cell_type": "code",
   "execution_count": 34,
   "metadata": {},
   "outputs": [
    {
     "data": {
      "text/plain": [
       "book_url        0\n",
       "title           0\n",
       "user           40\n",
       "user_rate      36\n",
       "user_review     0\n",
       "dtype: int64"
      ]
     },
     "execution_count": 34,
     "metadata": {},
     "output_type": "execute_result"
    }
   ],
   "source": [
    "interactives.isnull().sum()\n",
    "# interactives[interactives['user'].isnull()]"
   ]
  },
  {
   "cell_type": "markdown",
   "metadata": {},
   "source": [
    "**Drop rows where both *user_rate* and *user_review* are missing**"
   ]
  },
  {
   "cell_type": "code",
   "execution_count": 35,
   "metadata": {},
   "outputs": [],
   "source": [
    "interactives.dropna(subset=['user_rate', 'user_review'], inplace=True)"
   ]
  },
  {
   "cell_type": "markdown",
   "metadata": {},
   "source": [
    "Interactives: *user_rate*\n",
    "- convert to numeric"
   ]
  },
  {
   "cell_type": "code",
   "execution_count": 36,
   "metadata": {},
   "outputs": [],
   "source": [
    "interactives['user_rate'] = interactives['user_rate'].apply(extract_numeric_rating) "
   ]
  },
  {
   "cell_type": "markdown",
   "metadata": {},
   "source": [
    "Interactives: *user_review*\n",
    "- translate *user_review* to English, remove meaningless words, convert to lower case, remove punctuations, special charecters, emojis and multiple spaces\n",
    "- Due to limitations of the web version of google translate, googletrans API does not guarantee that the library would work properly at all times  \n",
    "  *text_cleaning_lighter* has removed the translation function and the meaningless words removing function  \n",
    "  It’s probably, Google has banned your client IP address  \n",
    "  TODO: use [Google’s official translate API](https://cloud.google.com/translate/docs)"
   ]
  },
  {
   "cell_type": "code",
   "execution_count": 37,
   "metadata": {},
   "outputs": [],
   "source": [
    "# interactives['user_review'].fillna(interactives['title'], inplace=True)\n",
    "interactives['user_review'] = interactives['user_review'].astype(str)\n",
    "\n",
    "interactives['user_review'] = interactives['user_review'].apply(text_cleaning_lighter)"
   ]
  },
  {
   "cell_type": "code",
   "execution_count": 39,
   "metadata": {},
   "outputs": [
    {
     "data": {
      "text/html": [
       "<div>\n",
       "<style scoped>\n",
       "    .dataframe tbody tr th:only-of-type {\n",
       "        vertical-align: middle;\n",
       "    }\n",
       "\n",
       "    .dataframe tbody tr th {\n",
       "        vertical-align: top;\n",
       "    }\n",
       "\n",
       "    .dataframe thead th {\n",
       "        text-align: right;\n",
       "    }\n",
       "</style>\n",
       "<table border=\"1\" class=\"dataframe\">\n",
       "  <thead>\n",
       "    <tr style=\"text-align: right;\">\n",
       "      <th></th>\n",
       "      <th>book_url</th>\n",
       "      <th>title</th>\n",
       "      <th>user</th>\n",
       "      <th>user_rate</th>\n",
       "      <th>user_review</th>\n",
       "    </tr>\n",
       "  </thead>\n",
       "  <tbody>\n",
       "    <tr>\n",
       "      <th>0</th>\n",
       "      <td>https://www.goodreads.com/book/show/136251.Har...</td>\n",
       "      <td>Harry Potter and the Deathly Hallows</td>\n",
       "      <td>992038-tara</td>\n",
       "      <td>1</td>\n",
       "      <td>ok before i start a few warnings this will con...</td>\n",
       "    </tr>\n",
       "    <tr>\n",
       "      <th>1</th>\n",
       "      <td>https://www.goodreads.com/book/show/136251.Har...</td>\n",
       "      <td>Harry Potter and the Deathly Hallows</td>\n",
       "      <td>167451-suzanne</td>\n",
       "      <td>5</td>\n",
       "      <td>i m going to keep going until i succeed or die...</td>\n",
       "    </tr>\n",
       "    <tr>\n",
       "      <th>2</th>\n",
       "      <td>https://www.goodreads.com/book/show/136251.Har...</td>\n",
       "      <td>Harry Potter and the Deathly Hallows</td>\n",
       "      <td>8937622-kassidy</td>\n",
       "      <td>5</td>\n",
       "      <td>it s hard for me to believe that i finished th...</td>\n",
       "    </tr>\n",
       "    <tr>\n",
       "      <th>3</th>\n",
       "      <td>https://www.goodreads.com/book/show/136251.Har...</td>\n",
       "      <td>Harry Potter and the Deathly Hallows</td>\n",
       "      <td>22106879-jayson</td>\n",
       "      <td>5</td>\n",
       "      <td>a 86 extraordinarynotes it ends too expository...</td>\n",
       "    </tr>\n",
       "    <tr>\n",
       "      <th>4</th>\n",
       "      <td>https://www.goodreads.com/book/show/136251.Har...</td>\n",
       "      <td>Harry Potter and the Deathly Hallows</td>\n",
       "      <td>30728719-lily</td>\n",
       "      <td>5</td>\n",
       "      <td>i can t believe its over i ve finally read the...</td>\n",
       "    </tr>\n",
       "    <tr>\n",
       "      <th>...</th>\n",
       "      <td>...</td>\n",
       "      <td>...</td>\n",
       "      <td>...</td>\n",
       "      <td>...</td>\n",
       "      <td>...</td>\n",
       "    </tr>\n",
       "    <tr>\n",
       "      <th>1464</th>\n",
       "      <td>https://www.goodreads.com/book/show/1656001.Th...</td>\n",
       "      <td>The Host</td>\n",
       "      <td>26259115-kevin-irish-reader</td>\n",
       "      <td>4</td>\n",
       "      <td>finally read this for the first time and it wa...</td>\n",
       "    </tr>\n",
       "    <tr>\n",
       "      <th>1466</th>\n",
       "      <td>https://www.goodreads.com/book/show/1656001.Th...</td>\n",
       "      <td>The Host</td>\n",
       "      <td>72729-karin</td>\n",
       "      <td>5</td>\n",
       "      <td>wanderer has just arrived on earth and been im...</td>\n",
       "    </tr>\n",
       "    <tr>\n",
       "      <th>1467</th>\n",
       "      <td>https://www.goodreads.com/book/show/1656001.Th...</td>\n",
       "      <td>The Host</td>\n",
       "      <td>36102568-chloe</td>\n",
       "      <td>5</td>\n",
       "      <td>i have to say i was not expecting this book to...</td>\n",
       "    </tr>\n",
       "    <tr>\n",
       "      <th>1468</th>\n",
       "      <td>https://www.goodreads.com/book/show/1656001.Th...</td>\n",
       "      <td>The Host</td>\n",
       "      <td>17945431-hristina</td>\n",
       "      <td>5</td>\n",
       "      <td>first read may 26th through june 8th 2013secon...</td>\n",
       "    </tr>\n",
       "    <tr>\n",
       "      <th>1469</th>\n",
       "      <td>https://www.goodreads.com/book/show/1656001.Th...</td>\n",
       "      <td>The Host</td>\n",
       "      <td>4590441-beatrice</td>\n",
       "      <td>5</td>\n",
       "      <td>so much potential in this book i don t underst...</td>\n",
       "    </tr>\n",
       "  </tbody>\n",
       "</table>\n",
       "<p>1434 rows × 5 columns</p>\n",
       "</div>"
      ],
      "text/plain": [
       "                                               book_url  \\\n",
       "0     https://www.goodreads.com/book/show/136251.Har...   \n",
       "1     https://www.goodreads.com/book/show/136251.Har...   \n",
       "2     https://www.goodreads.com/book/show/136251.Har...   \n",
       "3     https://www.goodreads.com/book/show/136251.Har...   \n",
       "4     https://www.goodreads.com/book/show/136251.Har...   \n",
       "...                                                 ...   \n",
       "1464  https://www.goodreads.com/book/show/1656001.Th...   \n",
       "1466  https://www.goodreads.com/book/show/1656001.Th...   \n",
       "1467  https://www.goodreads.com/book/show/1656001.Th...   \n",
       "1468  https://www.goodreads.com/book/show/1656001.Th...   \n",
       "1469  https://www.goodreads.com/book/show/1656001.Th...   \n",
       "\n",
       "                                     title                         user  \\\n",
       "0     Harry Potter and the Deathly Hallows                  992038-tara   \n",
       "1     Harry Potter and the Deathly Hallows               167451-suzanne   \n",
       "2     Harry Potter and the Deathly Hallows              8937622-kassidy   \n",
       "3     Harry Potter and the Deathly Hallows              22106879-jayson   \n",
       "4     Harry Potter and the Deathly Hallows                30728719-lily   \n",
       "...                                    ...                          ...   \n",
       "1464                              The Host  26259115-kevin-irish-reader   \n",
       "1466                              The Host                  72729-karin   \n",
       "1467                              The Host               36102568-chloe   \n",
       "1468                              The Host            17945431-hristina   \n",
       "1469                              The Host             4590441-beatrice   \n",
       "\n",
       "      user_rate                                        user_review  \n",
       "0             1  ok before i start a few warnings this will con...  \n",
       "1             5  i m going to keep going until i succeed or die...  \n",
       "2             5  it s hard for me to believe that i finished th...  \n",
       "3             5  a 86 extraordinarynotes it ends too expository...  \n",
       "4             5  i can t believe its over i ve finally read the...  \n",
       "...         ...                                                ...  \n",
       "1464          4  finally read this for the first time and it wa...  \n",
       "1466          5  wanderer has just arrived on earth and been im...  \n",
       "1467          5  i have to say i was not expecting this book to...  \n",
       "1468          5  first read may 26th through june 8th 2013secon...  \n",
       "1469          5  so much potential in this book i don t underst...  \n",
       "\n",
       "[1434 rows x 5 columns]"
      ]
     },
     "execution_count": 39,
     "metadata": {},
     "output_type": "execute_result"
    }
   ],
   "source": [
    "interactives"
   ]
  },
  {
   "cell_type": "markdown",
   "metadata": {},
   "source": [
    "# Data Understanding by Visualization"
   ]
  },
  {
   "cell_type": "code",
   "execution_count": null,
   "metadata": {},
   "outputs": [],
   "source": []
  },
  {
   "cell_type": "code",
   "execution_count": null,
   "metadata": {},
   "outputs": [],
   "source": []
  },
  {
   "cell_type": "markdown",
   "metadata": {},
   "source": []
  },
  {
   "cell_type": "markdown",
   "metadata": {},
   "source": []
  },
  {
   "cell_type": "markdown",
   "metadata": {},
   "source": []
  }
 ],
 "metadata": {
  "kernelspec": {
   "display_name": "Python 3",
   "language": "python",
   "name": "python3"
  },
  "language_info": {
   "codemirror_mode": {
    "name": "ipython",
    "version": 3
   },
   "file_extension": ".py",
   "mimetype": "text/x-python",
   "name": "python",
   "nbconvert_exporter": "python",
   "pygments_lexer": "ipython3",
   "version": "3.12.0"
  }
 },
 "nbformat": 4,
 "nbformat_minor": 2
}
