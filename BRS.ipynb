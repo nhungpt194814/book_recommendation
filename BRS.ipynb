{
 "cells": [
  {
   "cell_type": "code",
   "execution_count": 3,
   "metadata": {},
   "outputs": [],
   "source": [
    "import pandas as pd\n",
    "import json"
   ]
  },
  {
   "cell_type": "code",
   "execution_count": 8,
   "metadata": {},
   "outputs": [],
   "source": [
    "# loading the datasets\n",
    "books = pd.read_json('./data/book_test.jl', lines=True)\n",
    "interactives = pd.read_json('./data/interactive_test.json')"
   ]
  },
  {
   "cell_type": "markdown",
   "metadata": {},
   "source": [
    "# Data at first sight"
   ]
  },
  {
   "cell_type": "code",
   "execution_count": 9,
   "metadata": {},
   "outputs": [
    {
     "data": {
      "text/html": [
       "<div>\n",
       "<style scoped>\n",
       "    .dataframe tbody tr th:only-of-type {\n",
       "        vertical-align: middle;\n",
       "    }\n",
       "\n",
       "    .dataframe tbody tr th {\n",
       "        vertical-align: top;\n",
       "    }\n",
       "\n",
       "    .dataframe thead th {\n",
       "        text-align: right;\n",
       "    }\n",
       "</style>\n",
       "<table border=\"1\" class=\"dataframe\">\n",
       "  <thead>\n",
       "    <tr style=\"text-align: right;\">\n",
       "      <th></th>\n",
       "      <th>url</th>\n",
       "      <th>title</th>\n",
       "      <th>titleComplete</th>\n",
       "      <th>description</th>\n",
       "      <th>imageUrl</th>\n",
       "      <th>genres</th>\n",
       "      <th>asin</th>\n",
       "      <th>isbn</th>\n",
       "      <th>isbn13</th>\n",
       "      <th>publisher</th>\n",
       "      <th>...</th>\n",
       "      <th>author</th>\n",
       "      <th>publishDate</th>\n",
       "      <th>characters</th>\n",
       "      <th>places</th>\n",
       "      <th>ratingHistogram</th>\n",
       "      <th>ratingsCount</th>\n",
       "      <th>reviewsCount</th>\n",
       "      <th>numPages</th>\n",
       "      <th>language</th>\n",
       "      <th>awards</th>\n",
       "    </tr>\n",
       "  </thead>\n",
       "  <tbody>\n",
       "    <tr>\n",
       "      <th>0</th>\n",
       "      <td>https://www.goodreads.com/book/show/2767052-th...</td>\n",
       "      <td>The Hunger Games</td>\n",
       "      <td>The Hunger Games (The Hunger Games, #1)</td>\n",
       "      <td>Could you survive on your own in the wild, wit...</td>\n",
       "      <td>https://images-na.ssl-images-amazon.com/images...</td>\n",
       "      <td>[Romance, Adventure, Dystopia, Fantasy, Scienc...</td>\n",
       "      <td>0439023483</td>\n",
       "      <td>0439023483</td>\n",
       "      <td>9.780439e+12</td>\n",
       "      <td>Scholastic Press</td>\n",
       "      <td>...</td>\n",
       "      <td>[Suzanne Collins]</td>\n",
       "      <td>1223967600000</td>\n",
       "      <td>[Rue, Effie Trinket, Haymitch Abernathy, Caesa...</td>\n",
       "      <td>[Capitol, Panem, District 12, Panem, Panem]</td>\n",
       "      <td>[118499, 214967, 958016, 2516526, 4483011]</td>\n",
       "      <td>8291019</td>\n",
       "      <td>208945</td>\n",
       "      <td>374</td>\n",
       "      <td>English</td>\n",
       "      <td>[{'name': 'Locus Award', 'awardedAt': 12307968...</td>\n",
       "    </tr>\n",
       "    <tr>\n",
       "      <th>1</th>\n",
       "      <td>https://www.goodreads.com/book/show/136251.Har...</td>\n",
       "      <td>Harry Potter and the Deathly Hallows</td>\n",
       "      <td>Harry Potter and the Deathly Hallows (Harry Po...</td>\n",
       "      <td>Harry has been burdened with a dark, dangerous...</td>\n",
       "      <td>https://images-na.ssl-images-amazon.com/images...</td>\n",
       "      <td>[Classics, Adventure, Fantasy, Childrens, Scie...</td>\n",
       "      <td>NaN</td>\n",
       "      <td>NaN</td>\n",
       "      <td>NaN</td>\n",
       "      <td>Arthur A. Levine Books</td>\n",
       "      <td>...</td>\n",
       "      <td>[J.K. Rowling]</td>\n",
       "      <td>1185001200000</td>\n",
       "      <td>[Sirius Black, Ginny Weasley, Remus Lupin, Cho...</td>\n",
       "      <td>[London, England, Hogwarts School of Witchcraf...</td>\n",
       "      <td>[29882, 42756, 202691, 706484, 2610889]</td>\n",
       "      <td>3592702</td>\n",
       "      <td>82737</td>\n",
       "      <td>759</td>\n",
       "      <td>English</td>\n",
       "      <td>[{'name': 'Locus Award', 'awardedAt': 11991744...</td>\n",
       "    </tr>\n",
       "    <tr>\n",
       "      <th>2</th>\n",
       "      <td>https://www.goodreads.com/book/show/77203.The_...</td>\n",
       "      <td>The Kite Runner</td>\n",
       "      <td>The Kite Runner</td>\n",
       "      <td>1970s Afghanistan: Twelve-year-old Amir is des...</td>\n",
       "      <td>https://images-na.ssl-images-amazon.com/images...</td>\n",
       "      <td>[Historical Fiction, Classics, Contemporary, H...</td>\n",
       "      <td>NaN</td>\n",
       "      <td>NaN</td>\n",
       "      <td>NaN</td>\n",
       "      <td>Riverhead Books</td>\n",
       "      <td>...</td>\n",
       "      <td>[Khaled Hosseini]</td>\n",
       "      <td>1083394800000</td>\n",
       "      <td>[Hassan (The Kite Runner), Amir (The Kite Runn...</td>\n",
       "      <td>[Pakistan, Kabul, Fremont, California, Afghani...</td>\n",
       "      <td>[46329, 82073, 318094, 952094, 1654764]</td>\n",
       "      <td>3053354</td>\n",
       "      <td>94878</td>\n",
       "      <td>371</td>\n",
       "      <td>English</td>\n",
       "      <td>[{'name': 'Borders Original Voices Award', 'aw...</td>\n",
       "    </tr>\n",
       "  </tbody>\n",
       "</table>\n",
       "<p>3 rows × 21 columns</p>\n",
       "</div>"
      ],
      "text/plain": [
       "                                                 url  \\\n",
       "0  https://www.goodreads.com/book/show/2767052-th...   \n",
       "1  https://www.goodreads.com/book/show/136251.Har...   \n",
       "2  https://www.goodreads.com/book/show/77203.The_...   \n",
       "\n",
       "                                  title  \\\n",
       "0                      The Hunger Games   \n",
       "1  Harry Potter and the Deathly Hallows   \n",
       "2                       The Kite Runner   \n",
       "\n",
       "                                       titleComplete  \\\n",
       "0            The Hunger Games (The Hunger Games, #1)   \n",
       "1  Harry Potter and the Deathly Hallows (Harry Po...   \n",
       "2                                    The Kite Runner   \n",
       "\n",
       "                                         description  \\\n",
       "0  Could you survive on your own in the wild, wit...   \n",
       "1  Harry has been burdened with a dark, dangerous...   \n",
       "2  1970s Afghanistan: Twelve-year-old Amir is des...   \n",
       "\n",
       "                                            imageUrl  \\\n",
       "0  https://images-na.ssl-images-amazon.com/images...   \n",
       "1  https://images-na.ssl-images-amazon.com/images...   \n",
       "2  https://images-na.ssl-images-amazon.com/images...   \n",
       "\n",
       "                                              genres        asin        isbn  \\\n",
       "0  [Romance, Adventure, Dystopia, Fantasy, Scienc...  0439023483  0439023483   \n",
       "1  [Classics, Adventure, Fantasy, Childrens, Scie...         NaN         NaN   \n",
       "2  [Historical Fiction, Classics, Contemporary, H...         NaN         NaN   \n",
       "\n",
       "         isbn13               publisher  ...             author  \\\n",
       "0  9.780439e+12        Scholastic Press  ...  [Suzanne Collins]   \n",
       "1           NaN  Arthur A. Levine Books  ...     [J.K. Rowling]   \n",
       "2           NaN         Riverhead Books  ...  [Khaled Hosseini]   \n",
       "\n",
       "     publishDate                                         characters  \\\n",
       "0  1223967600000  [Rue, Effie Trinket, Haymitch Abernathy, Caesa...   \n",
       "1  1185001200000  [Sirius Black, Ginny Weasley, Remus Lupin, Cho...   \n",
       "2  1083394800000  [Hassan (The Kite Runner), Amir (The Kite Runn...   \n",
       "\n",
       "                                              places  \\\n",
       "0        [Capitol, Panem, District 12, Panem, Panem]   \n",
       "1  [London, England, Hogwarts School of Witchcraf...   \n",
       "2  [Pakistan, Kabul, Fremont, California, Afghani...   \n",
       "\n",
       "                              ratingHistogram ratingsCount  reviewsCount  \\\n",
       "0  [118499, 214967, 958016, 2516526, 4483011]      8291019        208945   \n",
       "1     [29882, 42756, 202691, 706484, 2610889]      3592702         82737   \n",
       "2     [46329, 82073, 318094, 952094, 1654764]      3053354         94878   \n",
       "\n",
       "   numPages  language                                             awards  \n",
       "0       374   English  [{'name': 'Locus Award', 'awardedAt': 12307968...  \n",
       "1       759   English  [{'name': 'Locus Award', 'awardedAt': 11991744...  \n",
       "2       371   English  [{'name': 'Borders Original Voices Award', 'aw...  \n",
       "\n",
       "[3 rows x 21 columns]"
      ]
     },
     "execution_count": 9,
     "metadata": {},
     "output_type": "execute_result"
    }
   ],
   "source": [
    "books.head(3)\n"
   ]
  },
  {
   "cell_type": "code",
   "execution_count": 10,
   "metadata": {},
   "outputs": [
    {
     "data": {
      "text/plain": [
       "Index(['url', 'title', 'titleComplete', 'description', 'imageUrl', 'genres',\n",
       "       'asin', 'isbn', 'isbn13', 'publisher', 'series', 'author',\n",
       "       'publishDate', 'characters', 'places', 'ratingHistogram',\n",
       "       'ratingsCount', 'reviewsCount', 'numPages', 'language', 'awards'],\n",
       "      dtype='object')"
      ]
     },
     "execution_count": 10,
     "metadata": {},
     "output_type": "execute_result"
    }
   ],
   "source": [
    "books.columns"
   ]
  },
  {
   "cell_type": "code",
   "execution_count": 11,
   "metadata": {},
   "outputs": [
    {
     "name": "stdout",
     "output_type": "stream",
     "text": [
      "<class 'pandas.core.frame.DataFrame'>\n",
      "RangeIndex: 500 entries, 0 to 499\n",
      "Data columns (total 11 columns):\n",
      " #   Column           Non-Null Count  Dtype \n",
      "---  ------           --------------  ----- \n",
      " 0   url              500 non-null    object\n",
      " 1   title            500 non-null    object\n",
      " 2   description      500 non-null    object\n",
      " 3   genres           500 non-null    object\n",
      " 4   author           500 non-null    object\n",
      " 5   publishDate      500 non-null    int64 \n",
      " 6   ratingHistogram  500 non-null    object\n",
      " 7   ratingsCount     500 non-null    int64 \n",
      " 8   reviewsCount     500 non-null    int64 \n",
      " 9   numPages         500 non-null    int64 \n",
      " 10  language         500 non-null    object\n",
      "dtypes: int64(4), object(7)\n",
      "memory usage: 43.1+ KB\n"
     ]
    }
   ],
   "source": [
    "# Drop columns\n",
    "books.drop(['titleComplete', 'imageUrl', 'asin', 'isbn', 'isbn13', 'publisher', 'series', 'characters', 'places', 'awards'], axis=1, inplace = True)\n",
    "books.info()"
   ]
  },
  {
   "cell_type": "code",
   "execution_count": 12,
   "metadata": {},
   "outputs": [
    {
     "data": {
      "text/html": [
       "<div>\n",
       "<style scoped>\n",
       "    .dataframe tbody tr th:only-of-type {\n",
       "        vertical-align: middle;\n",
       "    }\n",
       "\n",
       "    .dataframe tbody tr th {\n",
       "        vertical-align: top;\n",
       "    }\n",
       "\n",
       "    .dataframe thead th {\n",
       "        text-align: right;\n",
       "    }\n",
       "</style>\n",
       "<table border=\"1\" class=\"dataframe\">\n",
       "  <thead>\n",
       "    <tr style=\"text-align: right;\">\n",
       "      <th></th>\n",
       "      <th>book_url</th>\n",
       "      <th>title</th>\n",
       "      <th>user</th>\n",
       "      <th>user_rate</th>\n",
       "      <th>user_review</th>\n",
       "    </tr>\n",
       "  </thead>\n",
       "  <tbody>\n",
       "    <tr>\n",
       "      <th>0</th>\n",
       "      <td>https://www.goodreads.com/book/show/136251.Har...</td>\n",
       "      <td>Harry Potter and the Deathly Hallows</td>\n",
       "      <td>992038-tara</td>\n",
       "      <td>Rating 1 out of 5</td>\n",
       "      <td>Ok, before I start a few warnings. This will c...</td>\n",
       "    </tr>\n",
       "    <tr>\n",
       "      <th>1</th>\n",
       "      <td>https://www.goodreads.com/book/show/136251.Har...</td>\n",
       "      <td>Harry Potter and the Deathly Hallows</td>\n",
       "      <td>167451-suzanne</td>\n",
       "      <td>Rating 5 out of 5</td>\n",
       "      <td>\"I'm going to keep going until I succeed — or ...</td>\n",
       "    </tr>\n",
       "    <tr>\n",
       "      <th>2</th>\n",
       "      <td>https://www.goodreads.com/book/show/136251.Har...</td>\n",
       "      <td>Harry Potter and the Deathly Hallows</td>\n",
       "      <td>8937622-kassidy</td>\n",
       "      <td>Rating 5 out of 5</td>\n",
       "      <td>It's hard for me to believe that I finished th...</td>\n",
       "    </tr>\n",
       "  </tbody>\n",
       "</table>\n",
       "</div>"
      ],
      "text/plain": [
       "                                            book_url  \\\n",
       "0  https://www.goodreads.com/book/show/136251.Har...   \n",
       "1  https://www.goodreads.com/book/show/136251.Har...   \n",
       "2  https://www.goodreads.com/book/show/136251.Har...   \n",
       "\n",
       "                                  title             user          user_rate  \\\n",
       "0  Harry Potter and the Deathly Hallows      992038-tara  Rating 1 out of 5   \n",
       "1  Harry Potter and the Deathly Hallows   167451-suzanne  Rating 5 out of 5   \n",
       "2  Harry Potter and the Deathly Hallows  8937622-kassidy  Rating 5 out of 5   \n",
       "\n",
       "                                         user_review  \n",
       "0  Ok, before I start a few warnings. This will c...  \n",
       "1  \"I'm going to keep going until I succeed — or ...  \n",
       "2  It's hard for me to believe that I finished th...  "
      ]
     },
     "execution_count": 12,
     "metadata": {},
     "output_type": "execute_result"
    }
   ],
   "source": [
    "interactives.head(3)"
   ]
  },
  {
   "cell_type": "code",
   "execution_count": 13,
   "metadata": {},
   "outputs": [
    {
     "name": "stdout",
     "output_type": "stream",
     "text": [
      "<class 'pandas.core.frame.DataFrame'>\n",
      "RangeIndex: 1470 entries, 0 to 1469\n",
      "Data columns (total 5 columns):\n",
      " #   Column       Non-Null Count  Dtype \n",
      "---  ------       --------------  ----- \n",
      " 0   book_url     1470 non-null   object\n",
      " 1   title        1470 non-null   object\n",
      " 2   user         1430 non-null   object\n",
      " 3   user_rate    1434 non-null   object\n",
      " 4   user_review  1470 non-null   object\n",
      "dtypes: object(5)\n",
      "memory usage: 57.6+ KB\n"
     ]
    }
   ],
   "source": [
    "interactives.info()"
   ]
  }
 ],
 "metadata": {
  "kernelspec": {
   "display_name": "Python 3",
   "language": "python",
   "name": "python3"
  },
  "language_info": {
   "codemirror_mode": {
    "name": "ipython",
    "version": 3
   },
   "file_extension": ".py",
   "mimetype": "text/x-python",
   "name": "python",
   "nbconvert_exporter": "python",
   "pygments_lexer": "ipython3",
   "version": "3.12.0"
  }
 },
 "nbformat": 4,
 "nbformat_minor": 2
}
